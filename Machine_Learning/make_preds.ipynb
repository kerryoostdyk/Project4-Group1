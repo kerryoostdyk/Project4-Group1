{
 "cells": [
  {
   "cell_type": "code",
   "execution_count": 14,
   "id": "43766447-22fa-4037-88d3-18d06cb3f405",
   "metadata": {},
   "outputs": [],
   "source": [
    "import pandas as pd\n",
    "import numpy as np\n",
    "import pickle"
   ]
  },
  {
   "cell_type": "code",
   "execution_count": 15,
   "id": "6e71c107-74f6-4f1c-baf3-4b875bb13d2b",
   "metadata": {},
   "outputs": [],
   "source": [
    "model = pickle.load(open(\"waste_model_pipeline.h5\", 'rb'))"
   ]
  },
  {
   "cell_type": "code",
   "execution_count": 16,
   "id": "d95aa4ac-1706-494c-8b5b-beff8a702161",
   "metadata": {},
   "outputs": [],
   "source": [
    "numeric_features = ['economic_loss', 'avg_waste', 'population', 'household_waste']\n",
    "binary_features = []\n",
    "categorical_features = ['country', 'year', 'food_category']"
   ]
  },
  {
   "cell_type": "code",
   "execution_count": 17,
   "id": "3f0b1ed5-b7a7-4917-9dae-5d014c935d25",
   "metadata": {},
   "outputs": [],
   "source": [
    "economic_loss = 18000\n",
    "avg_waste=160\n",
    "population=1231.96\n",
    "household_waste= 42\n",
    "country= \"Turkey\"\n",
    "year= \"2020\"\n",
    "food_category=\"Frozen Food\""
   ]
  },
  {
   "cell_type": "code",
   "execution_count": 26,
   "id": "a27acdde-833e-4597-8812-add467c869c0",
   "metadata": {},
   "outputs": [
    {
     "data": {
      "text/plain": [
       "array([20013.9705])"
      ]
     },
     "execution_count": 26,
     "metadata": {},
     "output_type": "execute_result"
    }
   ],
   "source": [
    "df=pd.DataFrame()\n",
    "df[\"economic_loss\"]=[economic_loss]\n",
    "df[\"avg_waste\"]=[avg_waste]\n",
    "df[\"population\"]=[population]\n",
    "df[\"household_waste\"]=[household_waste]\n",
    "df[\"country\"]=[country]\n",
    "df[\"year\"]=[year]\n",
    "df[\"food_category\"]=[food_category]\n",
    "\n",
    "preds = model.predict(df)\n",
    "preds"
   ]
  },
  {
   "cell_type": "code",
   "execution_count": 27,
   "id": "a5eb9a0e-9419-415b-b29a-39de76c0726d",
   "metadata": {},
   "outputs": [],
   "source": [
    "total_food_waste = preds"
   ]
  },
  {
   "cell_type": "code",
   "execution_count": 34,
   "id": "87045f65-3a14-4a3b-902e-47e4fed38c83",
   "metadata": {},
   "outputs": [],
   "source": [
    "def make_predictions(economic_loss, avg_waste, population, household_waste, country, year, food_category):\n",
    "    df=pd.DataFrame()\n",
    "    df[\"economic_loss\"]=[economic_loss]\n",
    "    df[\"avg_waste\"]=[avg_waste]\n",
    "    df[\"population\"]=[population]\n",
    "    df[\"household_waste\"]=[household_waste]\n",
    "    df[\"country\"]=[country]\n",
    "    df[\"year\"]=[year]\n",
    "    df[\"food_category\"]=[food_category]\n",
    "\n",
    "    model = pickle.load(open(\"waste_model_pipeline.h5\", 'rb'))\n",
    "\n",
    "    preds = model.predict(df)\n",
    "\n",
    "    return(total_food_waste)\n"
   ]
  },
  {
   "cell_type": "code",
   "execution_count": 35,
   "id": "b1e3db49-159f-4907-9318-13397dda5e8a",
   "metadata": {},
   "outputs": [
    {
     "data": {
      "text/plain": [
       "array([20013.9705])"
      ]
     },
     "execution_count": 35,
     "metadata": {},
     "output_type": "execute_result"
    }
   ],
   "source": [
    "economic_loss = 25000\n",
    "avg_waste=160\n",
    "population=1231.96\n",
    "household_waste= 42\n",
    "country= \"USA\"\n",
    "year= \"2022\"\n",
    "food_category=\"Dairy\"\n",
    "\n",
    "make_predictions(economic_loss, avg_waste, population, household_waste, country, year, food_category)"
   ]
  },
  {
   "cell_type": "code",
   "execution_count": null,
   "id": "dc8d559a-b19e-4341-a20a-b9d5a228ad85",
   "metadata": {},
   "outputs": [],
   "source": []
  },
  {
   "cell_type": "code",
   "execution_count": null,
   "id": "96f6cc7d-a6c9-4b03-8ea0-52f76c54b613",
   "metadata": {},
   "outputs": [],
   "source": []
  }
 ],
 "metadata": {
  "kernelspec": {
   "display_name": "Python 3 (ipykernel)",
   "language": "python",
   "name": "python3"
  },
  "language_info": {
   "codemirror_mode": {
    "name": "ipython",
    "version": 3
   },
   "file_extension": ".py",
   "mimetype": "text/x-python",
   "name": "python",
   "nbconvert_exporter": "python",
   "pygments_lexer": "ipython3",
   "version": "3.10.15"
  }
 },
 "nbformat": 4,
 "nbformat_minor": 5
}
